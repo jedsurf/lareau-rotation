{
 "cells": [
  {
   "cell_type": "markdown",
   "metadata": {},
   "source": [
    "# Walkthrough of iXnos makefile"
   ]
  },
  {
   "cell_type": "code",
   "execution_count": 2,
   "metadata": {},
   "outputs": [],
   "source": [
    "import os\n",
    "\n",
    "working_dir = \"../iXnos\"\n",
    "os.chdir(working_dir)"
   ]
  },
  {
   "cell_type": "code",
   "execution_count": 3,
   "metadata": {},
   "outputs": [
    {
     "name": "stdout",
     "output_type": "stream",
     "text": [
      "Read 45615984 spots for SRR2075925\n",
      "Written 45615984 spots for SRR2075925\n",
      "Read 34606362 spots for SRR2075926\n",
      "Written 34606362 spots for SRR2075926\n"
     ]
    }
   ],
   "source": [
    "# download the Iwasaki data from SRA\n",
    "!fastq-dump SRR2075925 -O expts/iwasaki/process\n",
    "!fastq-dump SRR2075926 -O expts/iwasaki/process\n",
    "# !fastq-dump SRR2075925 -O expts/iwasaki/process\n",
    "# !fastq-dump SRR2075926 -O expts/iwasaki/process"
   ]
  },
  {
   "cell_type": "code",
   "execution_count": 3,
   "metadata": {},
   "outputs": [
    {
     "name": "stdout",
     "output_type": "stream",
     "text": [
      "genome_data\n",
      "rsem-parse-alignments genome_data/human.transcripts.13cds10 expts/iwasaki/process/iwasaki.temp/iwasaki expts/iwasaki/process/iwasaki.stat/iwasaki expts/iwasaki/process/iwasaki.footprints.sam 1 -tag XM\n",
      "Parsed 1000000 entries\n",
      "Parsed 2000000 entries\n",
      "Parsed 3000000 entries\n",
      "Parsed 4000000 entries\n",
      "Parsed 5000000 entries\n",
      "Parsed 6000000 entries\n",
      "Parsed 7000000 entries\n",
      "Parsed 8000000 entries\n",
      "Parsed 9000000 entries\n",
      "Parsed 10000000 entries\n",
      "Parsed 11000000 entries\n",
      "Parsed 12000000 entries\n",
      "Parsed 13000000 entries\n",
      "Parsed 14000000 entries\n",
      "Parsed 15000000 entries\n",
      "Parsed 16000000 entries\n",
      "Parsed 17000000 entries\n",
      "^C\n",
      "\"rsem-parse-alignments genome_data/human.transcripts.13cds10 expts/iwasaki/process/iwasaki.temp/iwasaki expts/iwasaki/process/iwasaki.stat/iwasaki expts/iwasaki/process/iwasaki.footprints.sam 1 -tag XM\" failed! Plase check if you provide correct parameters/options for the pipeline!\n"
     ]
    }
   ],
   "source": [
    "# process the data\n",
    "!bash expts/iwasaki/process/iwasaki.sh genome_data expts/iwasaki/process"
   ]
  },
  {
   "cell_type": "code",
   "execution_count": null,
   "metadata": {},
   "outputs": [],
   "source": [
    "# Need to run separately in terminal\n",
    "!python reproduce_scripts/process_data.py edit_sam_file iwasaki \\\n",
    "\texpts/iwasaki expts/iwasaki/process/iwasaki.transcript.sam\n"
   ]
  },
  {
   "cell_type": "code",
   "execution_count": null,
   "metadata": {},
   "outputs": [],
   "source": [
    "!mkdir expts/iwasaki/plots"
   ]
  },
  {
   "cell_type": "code",
   "execution_count": null,
   "metadata": {},
   "outputs": [],
   "source": [
    "# (Need to run separately in terminal)\n",
    "# look at the size and frame of the ribosome footprints to figure out what \n",
    "# A-site offsets are appropriate\n",
    "!python reproduce_scripts/process_data.py size_and_frame_analysis iwasaki \\\n",
    "\texpts/iwasaki expts/iwasaki/process/iwasaki.transcript.mapped.wts.sam \\\n",
    "\tgenome_data/gencode.v22.transcript.13cds10.lengths.txt\n"
   ]
  },
  {
   "cell_type": "code",
   "execution_count": null,
   "metadata": {},
   "outputs": [],
   "source": [
    "# (Need to run in separate terminal)\n",
    "!python reproduce_scripts/process_data.py process_sam_file iwasaki \\\n",
    "\texpts/iwasaki expts/iwasaki/process/iwasaki.transcript.mapped.wts.sam \\\n",
    "\tgenome_data/gencode.v22.transcript.13cds10.lengths.txt genome_data/gencode.v22.transcript.13cds10.fa"
   ]
  },
  {
   "cell_type": "code",
   "execution_count": null,
   "metadata": {},
   "outputs": [],
   "source": [
    "!mkdir expts/iwasaki/lasagne_nn"
   ]
  },
  {
   "cell_type": "markdown",
   "metadata": {},
   "source": [
    "# Running the models\n",
    "NOTE 241205: there was a bug in the iwasaki.sh script, and I've rerun the processing steps, but have not rerun the model after fixing the issue. Not sure if it's important to do so atm"
   ]
  },
  {
   "cell_type": "markdown",
   "metadata": {},
   "source": [
    "## -5 to +4"
   ]
  },
  {
   "cell_type": "code",
   "execution_count": null,
   "metadata": {},
   "outputs": [],
   "source": [
    "# this model goes from codons -5 to +4, plus the corresponding nucleotides. for the paper we ran this 10 times to get replicates, so thsi one is called rep 0, but we don't need to do that\n",
    "# I don't remember what 70 and 32 are for, maybe the epochs we use later?\n",
    "# 70 = num_epochs\n",
    "# 32 = lr_decay\n",
    "\n",
    "# model_name = cod_n5p4_nt_n15p14\n",
    "# model_rep = 0\n",
    "# expt_dir = expts/iwasaki \n",
    "# sam_fname = expts/iwasaki/process/iwasaki.transcript.mapped.wts.sam\n",
    "# gene_len_fname = genome_data/gencode.v22.transcript.13cds10.lengths.txt\n",
    "# gene_seq_fname = genome_data/gencode.v22.transcript.13cds10.fa\n",
    "# tr_codons_fname = expts/iwasaki/process/tr_set_bounds.size.27.30.trunc.20.20.min_cts.200.min_cod.100.top.500.txt\n",
    "# te_codons_fname = expts/iwasaki/process/te_set_bounds.size.27.30.trunc.20.20.min_cts.200.min_cod.100.top.500.txt\n",
    "# outputs_fname = expts/iwasaki/process/outputs.size.27.30.txt\n",
    "# num_epochs = 70\n",
    "# lr_decay = 32\n",
    "\n",
    "!python reproduce_scripts/feat_neighborhood_nn_series.py \\\n",
    "\tcod_n5p4_nt_n15p14 0 \\\n",
    "\texpts/iwasaki expts/iwasaki/process/iwasaki.transcript.mapped.wts.sam \\\n",
    "\tgenome_data/gencode.v22.transcript.13cds10.lengths.txt genome_data/gencode.v22.transcript.13cds10.fa \\\n",
    "\texpts/iwasaki/process/tr_set_bounds.size.27.30.trunc.20.20.min_cts.200.min_cod.100.top.500.txt expts/iwasaki/process/te_set_bounds.size.27.30.trunc.20.20.min_cts.200.min_cod.100.top.500.txt \\\n",
    "\texpts/iwasaki/process/outputs.size.27.30.txt 70 \\\n",
    "\t32"
   ]
  },
  {
   "cell_type": "markdown",
   "metadata": {},
   "source": [
    "## -7 to +5"
   ]
  },
  {
   "cell_type": "code",
   "execution_count": null,
   "metadata": {},
   "outputs": [],
   "source": [
    "# same but codons -7 to +5\n",
    "!python reproduce_scripts/feat_neighborhood_nn_series.py \\\n",
    "\tcod_n7p5_nt_n21p17 0 \\\n",
    "\texpts/iwasaki expts/iwasaki/process/iwasaki.transcript.mapped.wts.sam \\\n",
    "\tgenome_data/gencode.v22.transcript.13cds10.lengths.txt genome_data/gencode.v22.transcript.13cds10.fa \\\n",
    "\texpts/iwasaki/process/tr_set_bounds.size.27.30.trunc.20.20.min_cts.200.min_cod.100.top.500.txt expts/iwasaki/process/te_set_bounds.size.27.30.trunc.20.20.min_cts.200.min_cod.100.top.500.txt \\\n",
    "\texpts/iwasaki/process/outputs.size.27.30.txt 70 \\\n",
    "\t32"
   ]
  },
  {
   "cell_type": "markdown",
   "metadata": {},
   "source": [
    "## Leave-one-out"
   ]
  },
  {
   "cell_type": "code",
   "execution_count": null,
   "metadata": {},
   "outputs": [],
   "source": [
    "# an example of one of the leave-one-out runs: this is leaving out codon -7. in the full makefile we generate one of these commands for each positionecho\n",
    "# HAVE NOT RUN YET\n",
    "!python reproduce_scripts/leaveout_series.py \\\n",
    "\tnocod-7_cod_n7p5_nt_n21p17 0 \\\n",
    "\texpts/iwasaki expts/iwasaki/process/iwasaki.transcript.mapped.wts.sam \\\n",
    "\tgenome_data/gencode.v22.transcript.13cds10.lengths.txt genome_data/gencode.v22.transcript.13cds10.fa \\\n",
    "\texpts/iwasaki/process/tr_set_bounds.size.27.30.trunc.20.20.min_cts.200.min_cod.100.top.500.txt expts/iwasaki/process/te_set_bounds.size.27.30.trunc.20.20.min_cts.200.min_cod.100.top.500.txt \\\n",
    "\texpts/iwasaki/process/outputs.size.27.30.txt \\\n",
    "\t70 \\\n",
    "\t32"
   ]
  },
  {
   "cell_type": "markdown",
   "metadata": {},
   "source": [
    "# Summarizing results etc."
   ]
  },
  {
   "cell_type": "code",
   "execution_count": null,
   "metadata": {},
   "outputs": [],
   "source": [
    "# save some stuff, make some diagnostic figures\n",
    "!mkdir results/iwasaki\n",
    "!mkdir results/iwasaki/full_cod_n5p4_nt_n15p14_rep0\n",
    "!mkdir results/iwasaki/full_cod_n5p4_nt_n15p14_rep0/epoch70\n",
    "!python reproduce_scripts/codon_scores.py \\\n",
    "\texpts/iwasaki/lasagne_nn/full_cod_n5p4_nt_n15p14_rep0 \\\n",
    "\t70\n"
   ]
  },
  {
   "cell_type": "code",
   "execution_count": 30,
   "metadata": {},
   "outputs": [],
   "source": [
    "!cp expts/iwasaki/lasagne_nn/full_cod_n5p4_nt_n15p14_rep0/epoch70/codon_scores.tsv \\\n",
    "\tresults/iwasaki/full_cod_n5p4_nt_n15p14_rep0/epoch70/codon_scores.tsv\n",
    "!cp expts/iwasaki/lasagne_nn/full_cod_n5p4_nt_n15p14_rep0/epoch70/codon_scores_colormap.pdf \\\n",
    "\tresults/iwasaki/full_cod_n5p4_nt_n15p14_rep0/epoch70/codon_scores_colormap.pdf"
   ]
  },
  {
   "cell_type": "code",
   "execution_count": null,
   "metadata": {},
   "outputs": [],
   "source": [
    "# The 1 is how many replicates were run; in this case only 1\n",
    "!mkdir results/iwasaki/feat_neighborhood_series\n",
    "!python reproduce_scripts/aggregate_corrs.py pearson \\\n",
    "\texpts/iwasaki/lasagne_nn 70 \\\n",
    "\t1 \\ \n",
    "\tresults/iwasaki/feat_neighborhood_series/feat_neighborhood_corrs.txt \\\n",
    "\tfull_cod_n5p4_nt_n15p14 full_cod_n7p5_nt_n21p17\n",
    "!mkdir results/iwasaki/leaveout_series"
   ]
  },
  {
   "cell_type": "code",
   "execution_count": null,
   "metadata": {},
   "outputs": [],
   "source": [
    "# this needs all the leave-one-out runs from -7 to +5\n",
    "!python reproduce_scripts/aggregate_corrs.py pearson \\\n",
    "\texpts/iwasaki/lasagne_nn 70 \\\n",
    "\t10 \\\n",
    "\tresults/iwasaki/leaveout_series/leaveout_corrs.txt \\\n",
    "\tnocod-7_cod_n7p5_nt_n21p17 nocod-6_cod_n7p5_nt_n21p17 nocod-5_cod_n7p5_nt_n21p17 nocod-4_cod_n7p5_nt_n21p17 nocod-3_cod_n7p5_nt_n21p17 nocod-2_cod_n7p5_nt_n21p17 nocod-1_cod_n7p5_nt_n21p17 nocod0_cod_n7p5_nt_n21p17 nocod1_cod_n7p5_nt_n21p17 nocod2_cod_n7p5_nt_n21p17 nocod3_cod_n7p5_nt_n21p17 nocod4_cod_n7p5_nt_n21p17 nocod5_cod_n7p5_nt_n21p17\n"
   ]
  },
  {
   "cell_type": "code",
   "execution_count": null,
   "metadata": {},
   "outputs": [],
   "source": [
    "!python reproduce_scripts/plot_nn.py \\\n",
    "\texpts/iwasaki full_cod_n5p4_nt_n15p14_rep0 \\\n",
    "\t70\n",
    "!cp -r expts/iwasaki/lasagne_nn/full_cod_n5p4_nt_n15p14_rep0/plots \\\n",
    "\tresults/iwasaki/full_cod_n5p4_nt_n15p14_rep0\n"
   ]
  }
 ],
 "metadata": {
  "kernelspec": {
   "display_name": "ixnos2",
   "language": "python",
   "name": "python3"
  },
  "language_info": {
   "codemirror_mode": {
    "name": "ipython",
    "version": 2
   },
   "file_extension": ".py",
   "mimetype": "text/x-python",
   "name": "python",
   "nbconvert_exporter": "python",
   "pygments_lexer": "ipython2",
   "version": "2.7.18"
  }
 },
 "nbformat": 4,
 "nbformat_minor": 2
}
