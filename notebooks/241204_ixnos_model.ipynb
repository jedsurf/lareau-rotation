{
 "cells": [
  {
   "cell_type": "markdown",
   "metadata": {},
   "source": [
    "# Recreate the ixnos model in this notebook\n",
    "Make a pytorch model w the same architecture and try to load in the pickled weights and biases\n",
    "into that model. Then, find sensible outputs"
   ]
  },
  {
   "cell_type": "code",
   "execution_count": 2,
   "metadata": {},
   "outputs": [
    {
     "name": "stdout",
     "output_type": "stream",
     "text": [
      "Using cpu device\n"
     ]
    }
   ],
   "source": [
    "import torch\n",
    "from torch import nn\n",
    "\n",
    "device = (\n",
    "    \"cuda\"\n",
    "    if torch.cuda.is_available()\n",
    "    else \"mps\"\n",
    "    if torch.backends.mps.is_available()\n",
    "    else \"cpu\"\n",
    ")\n",
    "print(f\"Using {device} device\")\n",
    "\n"
   ]
  },
  {
   "cell_type": "code",
   "execution_count": 96,
   "metadata": {},
   "outputs": [
    {
     "name": "stdout",
     "output_type": "stream",
     "text": [
      "iXnos(\n",
      "  (flatten): Flatten(start_dim=1, end_dim=-1)\n",
      "  (layers): Sequential(\n",
      "    (0): Linear(in_features=760, out_features=200, bias=True)\n",
      "    (1): Tanh()\n",
      "    (2): Linear(in_features=200, out_features=1, bias=True)\n",
      "    (3): ReLU()\n",
      "  )\n",
      ")\n",
      "layers.0.weight torch.Size([200, 760])\n",
      "layers.0.bias torch.Size([200])\n",
      "layers.2.weight torch.Size([1, 200])\n",
      "layers.2.bias torch.Size([1])\n"
     ]
    }
   ],
   "source": [
    "class iXnos(nn.Module):\n",
    "    def __init__(self, *args, **kwargs):\n",
    "        super().__init__(*args, **kwargs)\n",
    "        self.flatten = nn.Flatten()\n",
    "        self.layers = nn.Sequential(\n",
    "            nn.Linear(760, 200),\n",
    "            nn.Tanh(),\n",
    "            nn.Linear(200, 1),\n",
    "            nn.ReLU(),\n",
    "        )\n",
    "    \n",
    "    def forward(self, x):\n",
    "        # x = self.flatten(x)\n",
    "        output = self.layers(x)\n",
    "        return output \n",
    "    \n",
    "\n",
    "model = iXnos().to(device)\n",
    "print(model)\n",
    "for key, value in model.state_dict().items():\n",
    "    print(key, value.shape)"
   ]
  },
  {
   "cell_type": "code",
   "execution_count": 97,
   "metadata": {},
   "outputs": [
    {
     "name": "stdout",
     "output_type": "stream",
     "text": [
      "torch.Size([200, 760])\n",
      "torch.Size([200])\n",
      "torch.Size([1, 200])\n",
      "torch.Size([1])\n"
     ]
    }
   ],
   "source": [
    "import pickle\n",
    "pklpath = \"/mnt/lareaulab/demaray/lareau-rotation/iXnos/expts/iwasaki/lasagne_nn/full_cod_n5p4_nt_n15p14_rep0/epoch70/codon_scores.pkl\"\n",
    "pklpath = \"/mnt/lareaulab/demaray/lareau-rotation/iXnos/expts/iwasaki/lasagne_nn/full_cod_n5p4_nt_n15p14_rep0/epoch70/weights.pkl\"\n",
    "# Open the file in read-binary mode\n",
    "with open(pklpath, 'rb') as file:\n",
    "    # Load the pickled data\n",
    "    data = pickle.load(file, encoding='bytes')\n",
    "\n",
    "# data#.shape\n",
    "len(data)\n",
    "for idx, val in enumerate(data):\n",
    "    data[idx] = torch.from_numpy(val).T\n",
    "    print(data[idx].shape)"
   ]
  },
  {
   "cell_type": "code",
   "execution_count": 98,
   "metadata": {},
   "outputs": [
    {
     "name": "stdout",
     "output_type": "stream",
     "text": [
      "iXnos(\n",
      "  (flatten): Flatten(start_dim=1, end_dim=-1)\n",
      "  (layers): Sequential(\n",
      "    (0): Linear(in_features=760, out_features=200, bias=True)\n",
      "    (1): Tanh()\n",
      "    (2): Linear(in_features=200, out_features=1, bias=True)\n",
      "    (3): ReLU()\n",
      "  )\n",
      ")\n"
     ]
    }
   ],
   "source": [
    "from collections import OrderedDict\n",
    "dummy = \"layers\"\n",
    "labels = [f\"{dummy}.0.weight\", f\"{dummy}.0.bias\", f\"{dummy}.2.weight\", f\"{dummy}.2.bias\"]\n",
    "\n",
    "old_model = OrderedDict(zip(labels, data))\n",
    "\n",
    "model.load_state_dict(old_model)\n",
    "print(model)"
   ]
  },
  {
   "cell_type": "code",
   "execution_count": 132,
   "metadata": {},
   "outputs": [
    {
     "data": {
      "text/plain": [
       "tensor([14.8665], grad_fn=<ReluBackward0>)"
      ]
     },
     "execution_count": 132,
     "metadata": {},
     "output_type": "execute_result"
    }
   ],
   "source": [
    "model(torch.rand(760))"
   ]
  },
  {
   "cell_type": "markdown",
   "metadata": {},
   "source": [
    "## Try to get data"
   ]
  },
  {
   "cell_type": "code",
   "execution_count": 6,
   "metadata": {},
   "outputs": [
    {
     "data": {
      "text/plain": [
       "['GCA', 'GCA', 'GCA']"
      ]
     },
     "execution_count": 6,
     "metadata": {},
     "output_type": "execute_result"
    }
   ],
   "source": [
    "# TODO: add a larger sequence class that checks that everything is valid and\n",
    "# makes decisions about truncating ends of the overall sequence before formatting\n",
    "# it to be fed into the model. Tbh this is a placeholder class for now\n",
    "class Footprint():\n",
    "    def __init__(self, sequence):\n",
    "        self.sequence = sequence\n",
    "        self.codons = self.get_codons()\n",
    "\n",
    "    def get_codons(self):\n",
    "        return [self.sequence[i:i+3] for i in range(0, len(self.sequence), 3)]\n",
    "    \n",
    "\n",
    "f = Footprint(\"GCAGCAGCA\")\n",
    "f.codons"
   ]
  },
  {
   "cell_type": "code",
   "execution_count": 7,
   "metadata": {},
   "outputs": [
    {
     "data": {
      "text/plain": [
       "[True, True, True]"
      ]
     },
     "execution_count": 7,
     "metadata": {},
     "output_type": "execute_result"
    }
   ],
   "source": [
    "[f.codons[i] == \"GCA\" for i in range(len(f.codons))]"
   ]
  },
  {
   "cell_type": "code",
   "execution_count": 8,
   "metadata": {},
   "outputs": [],
   "source": [
    "alpha=\"ACGT\"\n",
    "nts = [\"A\", \"C\", \"G\", \"T\"]\n",
    "codons = [x+y+z for x in alpha for y in alpha for z in alpha]\n",
    "cod2id = {codon:idx for idx, codon in enumerate(codons)}\n",
    "id2cod = {idx:codon for codon, idx in cod2id.items()}\n",
    "nt2id = {nt:idx for idx, nt in enumerate(alpha)}\n",
    "id2nt = {idx:nt for nt, idx in nt2id.items()}\n",
    "\n",
    "# len(nts)\n",
    "# len(codons)"
   ]
  },
  {
   "cell_type": "markdown",
   "metadata": {},
   "source": [
    "`/mnt/lareaulab/shelen/clean_vestigium` has helen's stuff\n",
    "\n"
   ]
  },
  {
   "cell_type": "code",
   "execution_count": 65,
   "metadata": {},
   "outputs": [
    {
     "name": "stdout",
     "output_type": "stream",
     "text": [
      "dict_keys(['expt_dir', 'out_dir', 'loss_fn', 'drop_zeros', 'y_tr', 'gene_len_fname', 'tr_codons_fname', 'y_te', 'outputs_fname', 'rel_struc_idxs', 'gene_seq_fname', 'rel_nt_idxs', 'rel_cod_idxs', 'log_y', 'lr_decay', 'momentum', 'filter_max', 'struc_fname', 'input_drop_rate', 'raw_psct', 'learning_rate', 'batch_size', 'update_method', 'max_struc_width', 'aa_feats', 'filter_test', 'filter_pct', 'hidden_drop_rate', 'name', 'nonlinearity', 'widths', 'scaled_psct', 'nonnegative', 'max_struc_start_idx', 'num_outputs', 'te_codons_fname'])\n",
      "[-15, -14, -13, -12, -11, -10, -9, -8, -7, -6, -5, -4, -3, -2, -1, 0, 1, 2, 3, 4, 5, 6, 7, 8, 9, 10, 11, 12, 13, 14]\n",
      "[-5, -4, -3, -2, -1, 0, 1, 2, 3, 4]\n"
     ]
    }
   ],
   "source": [
    "# import pandas as pd\n",
    "# pd.read_csv(\"/mnt/lareaulab/demaray/lareau-rotation/iXnos/expts/iwasaki/process/outputs.size.27.30.txt\", sep=\"\\t\")\n",
    "\n",
    "with open(\"/mnt/lareaulab/demaray/lareau-rotation/iXnos/expts/iwasaki/lasagne_nn/full_cod_n5p4_nt_n15p14_rep0/init_data/y_te.pkl\", \"rb\") as file:\n",
    "    y_te = pickle.load(file, encoding='bytes')\n",
    "with open(\"/mnt/lareaulab/demaray/lareau-rotation/iXnos/expts/iwasaki/lasagne_nn/full_cod_n5p4_nt_n15p14_rep0/init_data/init_data.pkl\", \"rb\") as file:\n",
    "    X = pickle.load(file, encoding='bytes')\n",
    "\n",
    "X = {key.decode('utf-8'): value for key, value in X.items()}\n",
    "\n",
    "y_te\n",
    "print(X.keys())\n",
    "# print(X['rel_struc_idxs'])\n",
    "print(X['rel_nt_idxs'])\n",
    "print(X['rel_cod_idxs'])\n",
    "# for key, value in X.items():\n",
    "#     print(key, \": \", value)"
   ]
  },
  {
   "cell_type": "code",
   "execution_count": 240,
   "metadata": {},
   "outputs": [],
   "source": [
    "import numpy as np\n",
    "import pandas as pd\n",
    "# NOTE: This file appears to contain the training data, so codons -> scaled counts\n",
    "fname = \"/mnt/lareaulab/demaray/lareau-rotation/iXnos/expts/iwasaki/process/tr_set_bounds.size.27.30.trunc.20.20.min_cts.200.min_cod.100.top.500.data_table.txt\"\n",
    "\n",
    "# fname = \"/mnt/lareaulab/demaray/lareau-rotation/iXnos/expts/iwasaki/process/te_set_bounds.size.27.30.trunc.20.20.min_cts.200.min_cod.100.top.500.data_table.txt\"\n",
    "# NOTE: looks like they start with the 20th codon, and likely that they end 20 codons early here\n",
    "df = pd.read_csv(fname, sep='\\t')\n",
    "# NOTE: I won't be able to use this for the first ~5 codons bc I don't know what the preceding codons / nts are, but it's OK for now. \n",
    "genes_truncated = df.groupby(\"gene\")[\"cod_seq\"].agg(''.join) # We'll need this for nt features. \n",
    "\n",
    "nt_idx = np.arange(-15, 15)\n",
    "cod_idx = np.arange(-5, 5)"
   ]
  },
  {
   "cell_type": "code",
   "execution_count": 258,
   "metadata": {},
   "outputs": [
    {
     "name": "stdout",
     "output_type": "stream",
     "text": [
      "gene          ENST00000022615.7\n",
      "cod_idx                     151\n",
      "cod_seq                     GGC\n",
      "raw_cts                     4.0\n",
      "scaled_cts             0.695414\n",
      "Name: 131, dtype: object\n"
     ]
    }
   ],
   "source": [
    "te = df.iloc[131]\n",
    "gene = te[\"gene\"]\n",
    "# TODO: get codon indices\n",
    "\n",
    "print(te)\n",
    "def codon_1he(codon, codons=codons): # Should be a class thing so I don't need to sus input codons\n",
    "    arr = np.zeros(64)\n",
    "    arr[codons.index(codon)] = 1\n",
    "    return arr\n",
    "\n",
    "n5p4 = cod_idx + te[\"cod_idx\"]\n",
    "codon_vector = []\n",
    "for cod in n5p4: \n",
    "    codon_vector.append(codon_1he(df.loc[(df['gene'] == gene) & (df['cod_idx'] == cod), \"cod_seq\"].item()))\n",
    "codon_vector = np.concatenate(codon_vector)\n",
    "# TODO: get nt indices (which nt in the A site is 0??)"
   ]
  },
  {
   "cell_type": "code",
   "execution_count": 259,
   "metadata": {},
   "outputs": [
    {
     "name": "stdout",
     "output_type": "stream",
     "text": [
      "GGC\n"
     ]
    }
   ],
   "source": [
    "def nt_1he(nt, nts=nts): # Should be a class thing so I don't need to sus input nts\n",
    "    arr = np.zeros(4)\n",
    "    arr[nts.index(nt)] = 1\n",
    "    return arr\n",
    "\n",
    "\n",
    "\n",
    "gene = genes_truncated[te['gene']]\n",
    "asite_nt_idx = 2 + (te['cod_idx'] - 20) * 3\n",
    "print(gene[asite_nt_idx - 2: asite_nt_idx + 1])\n",
    "assert gene[asite_nt_idx] == te['cod_seq'][-1]\n",
    "\n",
    "nt_vector = []\n",
    "for i in nt_idx + asite_nt_idx:\n",
    "    nt_vector.append(nt_1he(gene[i]))\n",
    "nt_vector = np.concatenate(nt_vector)"
   ]
  },
  {
   "cell_type": "code",
   "execution_count": 260,
   "metadata": {},
   "outputs": [
    {
     "data": {
      "text/plain": [
       "0.0"
      ]
     },
     "execution_count": 260,
     "metadata": {},
     "output_type": "execute_result"
    }
   ],
   "source": [
    "input = np.concatenate([codon_vector, nt_vector])\n",
    "input = torch.from_numpy(input).to(torch.float32)\n",
    "model(input).item()\n"
   ]
  },
  {
   "cell_type": "code",
   "execution_count": 253,
   "metadata": {},
   "outputs": [],
   "source": [
    "\n",
    "def pred(i):\n",
    "    te = df.iloc[i]\n",
    "    gene = te[\"gene\"]\n",
    "    # TODO: get codon indices\n",
    "\n",
    "    # print(te)\n",
    "    def codon_1he(codon, codons=codons): # Should be a class thing so I don't need to sus input codons\n",
    "        arr = np.zeros(64)\n",
    "        arr[codons.index(codon)] = 1\n",
    "        return arr\n",
    "\n",
    "    n5p4 = cod_idx + te[\"cod_idx\"]\n",
    "    codon_vector = []\n",
    "    for cod in n5p4: \n",
    "        codon_vector.append(codon_1he(df.loc[(df['gene'] == gene) & (df['cod_idx'] == cod), \"cod_seq\"].item()))\n",
    "    codon_vector = np.concatenate(codon_vector)\n",
    "\n",
    "    def nt_1he(nt, nts=nts): # Should be a class thing so I don't need to sus input nts\n",
    "        arr = np.zeros(4)\n",
    "        arr[nts.index(nt)] = 1\n",
    "        return arr\n",
    "\n",
    "\n",
    "\n",
    "    gene = genes_truncated[te['gene']]\n",
    "    asite_nt_idx = 2 + (te['cod_idx'] - 20) * 3\n",
    "    # print(gene[asite_nt_idx - 2: asite_nt_idx + 1])\n",
    "    assert gene[asite_nt_idx] == te['cod_seq'][-1]\n",
    "\n",
    "    nt_vector = []\n",
    "    for i in nt_idx + asite_nt_idx:\n",
    "        nt_vector.append(nt_1he(gene[i]))\n",
    "    nt_vector = np.concatenate(nt_vector)\n",
    "\n",
    "    input = np.concatenate([codon_vector, nt_vector])\n",
    "    input = torch.from_numpy(input).to(torch.float32)\n",
    "    return te['scaled_cts'].item(), model(input).item()\n",
    "\n",
    "\n",
    "real, predicted = [], []\n",
    "for i in range(6, 100):\n",
    "    r, p = pred(i)\n",
    "    real.append(r)\n",
    "    predicted.append(p)"
   ]
  },
  {
   "cell_type": "code",
   "execution_count": 257,
   "metadata": {},
   "outputs": [
    {
     "data": {
      "text/plain": [
       "<matplotlib.collections.PathCollection at 0x7f0ae4712d80>"
      ]
     },
     "execution_count": 257,
     "metadata": {},
     "output_type": "execute_result"
    },
    {
     "data": {
      "image/png": "[encoded data removed]",
      "text/plain": [
       "<Figure size 640x480 with 1 Axes>"
      ]
     },
     "metadata": {},
     "output_type": "display_data"
    }
   ],
   "source": [
    "import matplotlib.pyplot as plt\n",
    "\n",
    "plt.scatter(real, predicted, s=5, c='k')"
   ]
  }
 ],
 "metadata": {
  "kernelspec": {
   "display_name": "Python 3 (ipykernel)",
   "language": "python",
   "name": "python3"
  },
  "language_info": {
   "codemirror_mode": {
    "name": "ipython",
    "version": 3
   },
   "file_extension": ".py",
   "mimetype": "text/x-python",
   "name": "python",
   "nbconvert_exporter": "python",
   "pygments_lexer": "ipython3",
   "version": "3.12.7"
  }
 },
 "nbformat": 4,
 "nbformat_minor": 2
}
