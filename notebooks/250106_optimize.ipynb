{
 "cells": [
  {
   "cell_type": "markdown",
   "metadata": {},
   "source": [
    "# Toy notebook to make optimization fxns"
   ]
  },
  {
   "cell_type": "code",
   "execution_count": 1,
   "metadata": {},
   "outputs": [],
   "source": [
    "import sys\n",
    "import os\n",
    "sys.path.append(\"src/\")\n",
    "from src import *\n",
    "sys.path.append(\"scripts/\")\n",
    "from ixnos_retrain import *\n",
    "import torch\n",
    "from torch import nn\n",
    "import numpy as np\n",
    "import pandas as pd\n",
    "import matplotlib.pyplot as plt\n",
    "from sklearn.metrics import r2_score\n",
    "from scipy.stats import pearsonr\n",
    "from Bio import SeqIO\n",
    "import seaborn as sns\n",
    "import random\n",
    "\n",
    "ALPHA = \"ACGT\"  # Defines the possible nucleotides\n",
    "NTS = [\"A\", \"C\", \"G\", \"T\"]  # Nucleotide list\n",
    "CODONS = [x + y + z for x in ALPHA for y in ALPHA for z in ALPHA]\n",
    "COD2ID = {codon: idx for idx, codon in enumerate(CODONS)}  # Codon to ID mapping\n",
    "ID2COD = {idx: codon for codon, idx in COD2ID.items()}  # ID to Codon mapping\n",
    "NT2ID = {nt: idx for idx, nt in enumerate(NTS)}  # Nucleotide to ID mapping\n",
    "ID2NT = {idx: nt for nt, idx in NT2ID.items()}  # ID to Nucleotide mapping\n",
    "NT_INDICES = np.arange(-15, 15)  # Nucleotide indices window\n",
    "CODON_INDICES = np.arange(-5, 5)  # Codon indices window\n"
   ]
  },
  {
   "cell_type": "code",
   "execution_count": 2,
   "metadata": {},
   "outputs": [
    {
     "ename": "TypeError",
     "evalue": "iXnos.__init__() got an unexpected keyword argument 'min_codon'",
     "output_type": "error",
     "traceback": [
      "\u001b[0;31m---------------------------------------------------------------------------\u001b[0m",
      "\u001b[0;31mTypeError\u001b[0m                                 Traceback (most recent call last)",
      "Cell \u001b[0;32mIn[2], line 2\u001b[0m\n\u001b[1;32m      1\u001b[0m model_path \u001b[38;5;241m=\u001b[39m \u001b[38;5;124m\"\u001b[39m\u001b[38;5;124mmodels/ixnos_retrained.pth\u001b[39m\u001b[38;5;124m\"\u001b[39m\n\u001b[0;32m----> 2\u001b[0m model \u001b[38;5;241m=\u001b[39m \u001b[43miXnos\u001b[49m\u001b[43m(\u001b[49m\u001b[43mmin_codon\u001b[49m\u001b[38;5;241;43m=\u001b[39;49m\u001b[38;5;241;43m-\u001b[39;49m\u001b[38;5;241;43m5\u001b[39;49m\u001b[43m,\u001b[49m\u001b[43m \u001b[49m\u001b[43mmax_codon\u001b[49m\u001b[38;5;241;43m=\u001b[39;49m\u001b[38;5;241;43m4\u001b[39;49m\u001b[43m)\u001b[49m\n\u001b[1;32m      3\u001b[0m model\u001b[38;5;241m.\u001b[39mload_state_dict(torch\u001b[38;5;241m.\u001b[39mload(model_path, weights_only\u001b[38;5;241m=\u001b[39m\u001b[38;5;28;01mTrue\u001b[39;00m))\n\u001b[1;32m      4\u001b[0m \u001b[38;5;66;03m# model = torch.load(model_path, weights_only=False)\u001b[39;00m\n",
      "File \u001b[0;32m/mnt/lareaulab/demaray/lareau-rotation/scripts/ixnos_retrain.py:13\u001b[0m, in \u001b[0;36miXnos.__init__\u001b[0;34m(self, *args, **kwargs)\u001b[0m\n\u001b[1;32m     12\u001b[0m \u001b[38;5;28;01mdef\u001b[39;00m \u001b[38;5;21m__init__\u001b[39m(\u001b[38;5;28mself\u001b[39m, \u001b[38;5;241m*\u001b[39margs, \u001b[38;5;241m*\u001b[39m\u001b[38;5;241m*\u001b[39mkwargs):\n\u001b[0;32m---> 13\u001b[0m     \u001b[38;5;28;43msuper\u001b[39;49m\u001b[43m(\u001b[49m\u001b[43m)\u001b[49m\u001b[38;5;241;43m.\u001b[39;49m\u001b[38;5;21;43m__init__\u001b[39;49m\u001b[43m(\u001b[49m\u001b[38;5;241;43m*\u001b[39;49m\u001b[43margs\u001b[49m\u001b[43m,\u001b[49m\u001b[43m \u001b[49m\u001b[38;5;241;43m*\u001b[39;49m\u001b[38;5;241;43m*\u001b[39;49m\u001b[43mkwargs\u001b[49m\u001b[43m)\u001b[49m\n\u001b[1;32m     14\u001b[0m     \u001b[38;5;28mself\u001b[39m\u001b[38;5;241m.\u001b[39mlayers \u001b[38;5;241m=\u001b[39m nn\u001b[38;5;241m.\u001b[39mSequential(\n\u001b[1;32m     15\u001b[0m         nn\u001b[38;5;241m.\u001b[39mLinear(\u001b[38;5;241m760\u001b[39m, \u001b[38;5;241m200\u001b[39m),\n\u001b[1;32m     16\u001b[0m         nn\u001b[38;5;241m.\u001b[39mTanh(),\n\u001b[1;32m     17\u001b[0m         nn\u001b[38;5;241m.\u001b[39mLinear(\u001b[38;5;241m200\u001b[39m, \u001b[38;5;241m1\u001b[39m),\n\u001b[1;32m     18\u001b[0m         nn\u001b[38;5;241m.\u001b[39mReLU(),\n\u001b[1;32m     19\u001b[0m     )\n",
      "File \u001b[0;32m/mnt/lareaulab/demaray/miniconda3/envs/ixnos/lib/python3.12/site-packages/torch/nn/modules/module.py:479\u001b[0m, in \u001b[0;36mModule.__init__\u001b[0;34m(self, *args, **kwargs)\u001b[0m\n\u001b[1;32m    477\u001b[0m \u001b[38;5;66;03m# Backward compatibility: no args used to be allowed when call_super_init=False\u001b[39;00m\n\u001b[1;32m    478\u001b[0m \u001b[38;5;28;01mif\u001b[39;00m \u001b[38;5;28mself\u001b[39m\u001b[38;5;241m.\u001b[39mcall_super_init \u001b[38;5;129;01mis\u001b[39;00m \u001b[38;5;28;01mFalse\u001b[39;00m \u001b[38;5;129;01mand\u001b[39;00m \u001b[38;5;28mbool\u001b[39m(kwargs):\n\u001b[0;32m--> 479\u001b[0m     \u001b[38;5;28;01mraise\u001b[39;00m \u001b[38;5;167;01mTypeError\u001b[39;00m(\n\u001b[1;32m    480\u001b[0m         \u001b[38;5;124mf\u001b[39m\u001b[38;5;124m\"\u001b[39m\u001b[38;5;132;01m{\u001b[39;00m\u001b[38;5;28mtype\u001b[39m(\u001b[38;5;28mself\u001b[39m)\u001b[38;5;241m.\u001b[39m\u001b[38;5;18m__name__\u001b[39m\u001b[38;5;132;01m}\u001b[39;00m\u001b[38;5;124m.__init__() got an unexpected keyword argument \u001b[39m\u001b[38;5;124m'\u001b[39m\u001b[38;5;132;01m{\u001b[39;00m\u001b[38;5;28mnext\u001b[39m(\u001b[38;5;28miter\u001b[39m(kwargs))\u001b[38;5;132;01m}\u001b[39;00m\u001b[38;5;124m'\u001b[39m\u001b[38;5;124m\"\u001b[39m\n\u001b[1;32m    481\u001b[0m         \u001b[38;5;124m\"\u001b[39m\u001b[38;5;124m\"\u001b[39m\n\u001b[1;32m    482\u001b[0m     )\n\u001b[1;32m    484\u001b[0m \u001b[38;5;28;01mif\u001b[39;00m \u001b[38;5;28mself\u001b[39m\u001b[38;5;241m.\u001b[39mcall_super_init \u001b[38;5;129;01mis\u001b[39;00m \u001b[38;5;28;01mFalse\u001b[39;00m \u001b[38;5;129;01mand\u001b[39;00m \u001b[38;5;28mbool\u001b[39m(args):\n\u001b[1;32m    485\u001b[0m     \u001b[38;5;28;01mraise\u001b[39;00m \u001b[38;5;167;01mTypeError\u001b[39;00m(\n\u001b[1;32m    486\u001b[0m         \u001b[38;5;124mf\u001b[39m\u001b[38;5;124m\"\u001b[39m\u001b[38;5;132;01m{\u001b[39;00m\u001b[38;5;28mtype\u001b[39m(\u001b[38;5;28mself\u001b[39m)\u001b[38;5;241m.\u001b[39m\u001b[38;5;18m__name__\u001b[39m\u001b[38;5;132;01m}\u001b[39;00m\u001b[38;5;124m.__init__() takes 1 positional argument but \u001b[39m\u001b[38;5;132;01m{\u001b[39;00m\u001b[38;5;28mlen\u001b[39m(args)\u001b[38;5;250m \u001b[39m\u001b[38;5;241m+\u001b[39m\u001b[38;5;250m \u001b[39m\u001b[38;5;241m1\u001b[39m\u001b[38;5;132;01m}\u001b[39;00m\u001b[38;5;124m were\u001b[39m\u001b[38;5;124m\"\u001b[39m\n\u001b[1;32m    487\u001b[0m         \u001b[38;5;124m\"\u001b[39m\u001b[38;5;124m given\u001b[39m\u001b[38;5;124m\"\u001b[39m\n\u001b[1;32m    488\u001b[0m     )\n",
      "\u001b[0;31mTypeError\u001b[0m: iXnos.__init__() got an unexpected keyword argument 'min_codon'"
     ]
    }
   ],
   "source": [
    "model_path = \"models/ixnos_retrained.pth\"\n",
    "model = iXnos(min_codon=-5, max_codon=4)\n",
    "model.load_state_dict(torch.load(model_path, weights_only=True))\n",
    "# model = torch.load(model_path, weights_only=False)\n",
    "model.eval()"
   ]
  },
  {
   "cell_type": "markdown",
   "metadata": {},
   "source": [
    "## 1. Given nt seq, run iXnos model on all codons\n",
    "(Except first/last 20)"
   ]
  },
  {
   "cell_type": "code",
   "execution_count": null,
   "metadata": {},
   "outputs": [],
   "source": [
    "iwasaki_dir = \"iXnos/expts/iwasaki\"\n",
    "ydf_te = pd.read_csv(\n",
    "    f\"{iwasaki_dir}/process/te_set_bounds.size.27.30.trunc.20.20.min_cts.200.min_cod.100.top.500.data_table.txt\",\n",
    "    sep='\\t')\n",
    "ydf_tr = pd.read_csv(\n",
    "    f\"{iwasaki_dir}/process/tr_set_bounds.size.27.30.trunc.20.20.min_cts.200.min_cod.100.top.500.data_table.txt\",\n",
    "    sep='\\t')\n",
    "# Get the train and test genes\n",
    "genes_te = ydf_te[\"gene\"].unique()\n",
    "genes_tr = ydf_tr[\"gene\"].unique()\n",
    "# Combine these dataframes and encode each codon\n",
    "ydf = pd.concat([ydf_te, ydf_tr]).sort_values(by=[\"gene\", \"cod_idx\"])\n",
    "gdf_path = \"iXnos/genome_data/human.transcripts.13cds10.transcripts.fa\"\n",
    "gdf = load_gdf(ydf, gdf_path)"
   ]
  },
  {
   "cell_type": "code",
   "execution_count": null,
   "metadata": {},
   "outputs": [
    {
     "name": "stdout",
     "output_type": "stream",
     "text": [
      "TAG 459\n"
     ]
    }
   ],
   "source": [
    "# Just gonna grab a complete CDS for one gene\n",
    "start_codon = \"ATG\"\n",
    "stop_codons = ['TAA', 'TAG', 'TGA']\n",
    "\n",
    "complete_seq = gdf.iloc[0][\"seq\"]\n",
    "start_codon_idx = complete_seq.find(start_codon)\n",
    "coding_seq = complete_seq[start_codon_idx:]\n",
    "codons = [coding_seq[i:i+3] for i in range(0, len(coding_seq), 3)]\n",
    "\n",
    "stop_indices = []\n",
    "for stop_codon in stop_codons:\n",
    "    if stop_codon in codons:\n",
    "        stop_codon_i_idx = codons.index(stop_codon)\n",
    "        print(stop_codon, stop_codon_i_idx)\n",
    "        stop_indices.append(stop_codon_i_idx)\n",
    "stop_index = min(stop_indices)\n",
    "# Final results:\n",
    "codons = codons[:stop_index + 1]\n",
    "coding_seq = \"\".join(codons)\n"
   ]
  },
  {
   "cell_type": "code",
   "execution_count": null,
   "metadata": {},
   "outputs": [
    {
     "data": {
      "text/plain": [
       "429.59519469738007"
      ]
     },
     "execution_count": 5,
     "metadata": {},
     "output_type": "execute_result"
    }
   ],
   "source": [
    "# i = 20\n",
    "# print(codons[i])\n",
    "def predict_elongation(seq, model, min_cod=-5, max_cod=4):\n",
    "    \"\"\"Given a sequence and an iXnos model, predict the sum of\n",
    "    scaled counts at each codon index.\n",
    "\n",
    "    Args:\n",
    "        seq (str): Amino acid sequence of transcript of interest.\n",
    "        model (iXnos model): iXnos model to use\n",
    "        min_cod (int, optional): Minimum index of codons used in iXnos model. Defaults to -5.\n",
    "        max_cod (int, optional): Maximum index of codons used in iXnos model. Defaults to 4.\n",
    "\n",
    "    Returns:\n",
    "        int: Sum of scaled counts; proxy for predicted elongation time\n",
    "    \"\"\"    \n",
    "    seq = seq.upper()\n",
    "    # I train iXnos on DNA sequences, so need to convert U to T\n",
    "    if \"U\" in seq:\n",
    "        seq = seq.replace(\"U\", \"T\")\n",
    "    # Add \"NNN\" codons to beginning and end of sequence in order to pass \n",
    "    # first and last few codons through iXnos\n",
    "    seq = \"\".join([\"NNN\" for i in range(0 - min_cod)]) \\\n",
    "        + seq + \"\".join([\"NNN\" for i in range(max_cod)])\n",
    "    # Predict scaled counts across all codons\n",
    "    codons = [seq[i:i+3] for i in range(0, len(seq), 3)]\n",
    "    overall_count = 0\n",
    "    for i in range(0 - min_cod, len(codons) - max_cod):\n",
    "        input_vector = get_inputs(codons[i + min_cod:i + max_cod + 1])\n",
    "        overall_count += model(input_vector).item()\n",
    "    return overall_count\n",
    "# def predict_total_speed(codons, model):\n",
    "#     predictions = []\n",
    "#     for i in range(20, len(codons) - 20): # FOR LOOP INDEXING!!!\n",
    "#         footprint_codons = codons[i+min(CODON_INDICES):i+max(CODON_INDICES) + 1]\n",
    "#         footprint_nt = \"\".join(footprint_codons)\n",
    "\n",
    "#         codon_vector = np.concatenate([encode(i, COD2ID) for i in footprint_codons])\n",
    "#         nt_vector = np.concatenate([encode(i, NT2ID) for i in footprint_nt])\n",
    "#         input_vector = np.concatenate([codon_vector, nt_vector])\n",
    "#         input_vector = torch.from_numpy(input_vector).to(torch.float32)\n",
    "#         prediction = model(input_vector).item()\n",
    "#         predictions.append(prediction)\n",
    "#     return sum(predictions)\n",
    "\n",
    "predict_total_speed(codons, model)"
   ]
  },
  {
   "cell_type": "code",
   "execution_count": null,
   "metadata": {},
   "outputs": [
    {
     "data": {
      "text/plain": [
       "-40"
      ]
     },
     "execution_count": 6,
     "metadata": {},
     "output_type": "execute_result"
    }
   ],
   "source": [
    "len(codons[20:-20]) - len(codons)"
   ]
  },
  {
   "cell_type": "code",
   "execution_count": null,
   "metadata": {},
   "outputs": [],
   "source": [
    "# def get_inputs(row):\n",
    "#     # Get input vectors for a given row of the y dataframe.\n",
    "#     gdf_gene = gdf.loc[row[\"gene\"]]\n",
    "#     gdf_seq = gdf_gene[\"seq\"]\n",
    "#     # Get index of E site in fasta sequence\n",
    "#     esite_index = (row[\"cod_idx\"] - 20) * 3 + gdf_gene[\"start\"] \n",
    "#     # Find the nucleotides in the window\n",
    "#     footprint_nt = gdf_seq[\n",
    "#         esite_index + NT_INDICES[0]:\n",
    "#         esite_index + NT_INDICES[-1] + 1]\n",
    "#     # Convert nt string into codons \n",
    "#         # NOTE: assumes your nt footprint is an in frame CDS containing just the codons we wanna look at\n",
    "#     footprint_codons = [footprint_nt[i:i+3] for i in range(0, len(footprint_nt), 3)]\n",
    "#     print(footprint_codons)\n",
    "#     # Assemble input tensor\n",
    "#     codon_vector = np.concatenate([encode(i, COD2ID) for i in footprint_codons])\n",
    "#     nt_vector = np.concatenate([encode(i, NT2ID) for i in footprint_nt])\n",
    "#     input_vector = np.concatenate([codon_vector, nt_vector])\n",
    "#     input_vector = torch.from_numpy(input_vector).to(torch.float32)\n",
    "#     return input_vector\n",
    "# print(ydf.iloc[0])\n",
    "# # get_inputs(ydf.iloc[0])"
   ]
  },
  {
   "cell_type": "markdown",
   "metadata": {},
   "source": [
    "## 2. Given an AA sequence, generate random nt seqs and pass to model"
   ]
  },
  {
   "cell_type": "code",
   "execution_count": null,
   "metadata": {},
   "outputs": [],
   "source": [
    "cit_seq = 'MSKGEELFTGVVPILVELDGDVNGHKFSVSGEGEGDATYGKLTLKFICTTGKLPVPWPTLVTTLGYGLMCFARYPDHMKQHDFFKSAMPEGYVQERTIFFKDDGNYKTRAEVKFEGDTLVNRIELKGIDFKEDGNILGHKLEYNYNSHNVYIMADKQKNGIKVNFKIRHNIEDGSVQLADHYQQNTPIGDGPVLLPDNHYLSYQSALSKDPNEKRDHMVLLEFVTAAGITHGMDELYK'\n",
    "\n",
    "let2cod = {\n",
    "    'F': ['TTT', 'TTC'],\n",
    "    'L': ['TTA', 'TTG', 'CTT', 'CTC', 'CTA', 'CTG'],\n",
    "    'I': ['ATT', 'ATC', 'ATA'],\n",
    "    'M': ['ATG'],\n",
    "    'V': ['GTT', 'GTC', 'GTA', 'GTG'],\n",
    "    'S': ['TCT', 'TCC', 'TCA', 'TCG', 'AGT', 'AGC'],\n",
    "    'P': ['CCT', 'CCC', 'CCA', 'CCG'],\n",
    "    'T': ['ACT', 'ACC', 'ACA', 'ACG'],\n",
    "    'A': ['GCT', 'GCC', 'GCA', 'GCG'],\n",
    "    'Y': ['TAT', 'TAC'],\n",
    "    'H': ['CAT', 'CAC'],\n",
    "    'Q': ['CAA', 'CAG'],\n",
    "    'N': ['AAT', 'AAC'],\n",
    "    'K': ['AAA', 'AAG'],\n",
    "    'D': ['GAT', 'GAC'],\n",
    "    'E': ['GAA', 'GAG'],\n",
    "    'C': ['TGT', 'TGC'],\n",
    "    'W': ['TGG'],\n",
    "    'R': ['CGT', 'CGC', 'CGA', 'CGG', 'AGA', 'AGG'],\n",
    "    'G': ['GGT', 'GGC', 'GGA', 'GGG'],\n",
    "}"
   ]
  },
  {
   "cell_type": "code",
   "execution_count": null,
   "metadata": {},
   "outputs": [],
   "source": [
    "def predict_random_speeds(cds, n_samples, model, **kwargs):\n",
    "    seqs, speeds = [], []\n",
    "    for i in range(n_samples):\n",
    "        codons = [random.choice(let2cod[i]) for i in cds]\n",
    "        nt_seq = \"\".join(codons)\n",
    "        pred_speed = predict_elongation(nt_seq, model, **kwargs)\n",
    "        seqs.append(nt_seq)\n",
    "        speeds.append(pred_speed)\n",
    "    return seqs, speeds"
   ]
  },
  {
   "cell_type": "code",
   "execution_count": null,
   "metadata": {},
   "outputs": [
    {
     "data": {
      "image/png": "[encoded data removed]",
      "text/plain": [
       "<Figure size 500x500 with 1 Axes>"
      ]
     },
     "metadata": {},
     "output_type": "display_data"
    },
    {
     "data": {
      "image/png": "[encoded data removed]",
      "text/plain": [
       "<Figure size 500x500 with 1 Axes>"
      ]
     },
     "metadata": {},
     "output_type": "display_data"
    }
   ],
   "source": [
    "seqs, speeds = predict_random_speeds(cit_seq, 1000, model=model)\n",
    "sns.displot(speeds, kind=\"kde\")\n",
    "sns.displot(speeds,)\n",
    "plt.show()"
   ]
  },
  {
   "cell_type": "markdown",
   "metadata": {},
   "source": [
    "## 3. Overall optimize"
   ]
  },
  {
   "cell_type": "code",
   "execution_count": null,
   "metadata": {},
   "outputs": [],
   "source": [
    "import itertools\n",
    "import torch\n",
    "from ixnos import iXnos, encode\n",
    "\n",
    "\n",
    "def get_inputs(codons : list):\n",
    "    nts = \"\".join(codons)\n",
    "    codon_vector = np.concatenate([encode(i, COD2ID) for i in codons])\n",
    "    nt_vector = np.concatenate([encode(i, NT2ID) for i in nts])\n",
    "    input_vector = np.concatenate([codon_vector, nt_vector])\n",
    "    input_vector = torch.from_numpy(input_vector).to(torch.float32)\n",
    "    return input_vector\n",
    "\n",
    "# PARAMETERS!!!\n",
    "seq = cit_seq[:8]\n",
    "# seq = \"MWMW\" + \"\".join([\"F\" for _ in range(20)])\n",
    "c_rel_min, c_rel_max = -3, 2\n",
    "L = len(seq)\n",
    "Q = [[] for _ in range(L - c_rel_max)]\n",
    "T = [[] for _ in range(L - c_rel_max)]\n",
    "c_min = np.zeros(L, dtype=int)\n",
    "c_max = np.zeros(L, dtype=int)\n",
    "# Load in model\n",
    "device = (\n",
    "    \"cuda\"\n",
    "    if torch.cuda.is_available()\n",
    "    else \"mps\"\n",
    "    if torch.backends.mps.is_available()\n",
    "    else \"cpu\"\n",
    ")\n",
    "model = iXnos(n_codons=6).to(device)\n",
    "model_path = \"processed-data/iwasaki/models/ixnos_n3p2_full.pth\"\n",
    "model.load_state_dict(torch.load(model_path, weights_only=True))\n",
    "model.eval()\n",
    "\n",
    "# TODO: should change this to look at the rightmost codon instead of the A site one, right?\n",
    "for i in range(L - c_rel_max):\n",
    "    c_min[i] = max(0, i + c_rel_min) # Originally this is 1 but I think it needs to be 0-based\n",
    "    c_max[i] = min(L, i + 1 + c_rel_max)\n",
    "    # print(i, \": \", c_min[i], c_max[i], len(range(c_min[i], c_max[i])), \"\\n\\t L = \", L)\n",
    "    possible_codons = [let2cod[k] for k in [seq[j] for j in range(c_min[i], c_max[i])]]\n",
    "    Q[i] = list(itertools.product(*possible_codons))\n",
    "    if i + c_rel_min < 0:\n",
    "        prefix_list = [\"NNN\" for _ in range(c_min[i]  - (i + c_rel_min))]\n",
    "        Q[i] = [prefix_list + list(i) for i in Q[i]]\n",
    "    for q in Q[i]:\n",
    "        input_vector = get_inputs(q).to(device)\n",
    "        T[i].append(model(input_vector).item())"
   ]
  },
  {
   "cell_type": "code",
   "execution_count": null,
   "metadata": {},
   "outputs": [
    {
     "ename": "NameError",
     "evalue": "name 'L' is not defined",
     "output_type": "error",
     "traceback": [
      "\u001b[0;31m---------------------------------------------------------------------------\u001b[0m",
      "\u001b[0;31mNameError\u001b[0m                                 Traceback (most recent call last)",
      "Cell \u001b[0;32mIn[48], line 1\u001b[0m\n\u001b[0;32m----> 1\u001b[0m P \u001b[38;5;241m=\u001b[39m [[] \u001b[38;5;28;01mfor\u001b[39;00m _ \u001b[38;5;129;01min\u001b[39;00m \u001b[38;5;28mrange\u001b[39m(\u001b[43mL\u001b[49m \u001b[38;5;241m-\u001b[39m c_rel_max)]\n\u001b[1;32m      2\u001b[0m V \u001b[38;5;241m=\u001b[39m [[] \u001b[38;5;28;01mfor\u001b[39;00m _ \u001b[38;5;129;01min\u001b[39;00m \u001b[38;5;28mrange\u001b[39m(L \u001b[38;5;241m-\u001b[39m c_rel_max)]\n\u001b[1;32m      4\u001b[0m \u001b[38;5;66;03m# TODO: breakpoints should be 0 indices right\u001b[39;00m\n",
      "\u001b[0;31mNameError\u001b[0m: name 'L' is not defined"
     ]
    }
   ],
   "source": [
    "P = [[] for _ in range(L - c_rel_max)]\n",
    "V = [[] for _ in range(L - c_rel_max)]\n",
    "\n",
    "# TODO: breakpoints should be 0 indices right\n",
    "for i in range(L):\n",
    "    if c_min[i] == 1:\n",
    "        for q_i, q in enumerate(Q[i]):\n",
    "            P[i].append(np.nan)\n",
    "            V[i].append(T[i][q_i])\n",
    "    elif c_min[i] > 1:\n",
    "        for q_i, q in enumerate(Q[i]):\n",
    "            # First finds Q[i-1] sequences that match all but the last codon for a given q, \n",
    "            # then finds the argmin of V[i-1] subsetted to those sequences\n",
    "            P_i_q = np.argmin(\n",
    "                [V[i - 1][k] for k in [\n",
    "                    all(a == b for a, b in zip(q[:-1], q_i[1:])) for q_i in Q[i-1]\n",
    "                    ] if k])\n",
    "            P[i].append(P_i_q)\n",
    "            V[i].append(V[i-1][P_i_q] + T[i][q_i])"
   ]
  },
  {
   "cell_type": "code",
   "execution_count": null,
   "metadata": {},
   "outputs": [
    {
     "data": {
      "text/plain": [
       "'ATGTCCAAGGGGGAGGAATTGTTT'"
      ]
     },
     "execution_count": 121,
     "metadata": {},
     "output_type": "execute_result"
    }
   ],
   "source": [
    "q_L = np.argmin(V[L - c_rel_max - 1])\n",
    "i = L - c_rel_max - 1\n",
    "q_i = q_L\n",
    "cds = \"\".join(Q[L - c_rel_max - 1][q_L])\n",
    "while c_min[i] > 1:\n",
    "    i -= 1\n",
    "    q_i = Q[i][np.argmin(V[i])]\n",
    "    cds = q_i[0] + cds\n",
    "cds = \"ATG\" + cds\n",
    "cds"
   ]
  },
  {
   "cell_type": "code",
   "execution_count": null,
   "metadata": {},
   "outputs": [
    {
     "data": {
      "text/plain": [
       "0.3385429382324219"
      ]
     },
     "execution_count": 114,
     "metadata": {},
     "output_type": "execute_result"
    }
   ],
   "source": [
    "predict_elongation(cds, model, -3, 2)"
   ]
  },
  {
   "cell_type": "code",
   "execution_count": null,
   "metadata": {},
   "outputs": [
    {
     "data": {
      "image/png": "[encoded data removed]",
      "text/plain": [
       "<Figure size 500x500 with 1 Axes>"
      ]
     },
     "metadata": {},
     "output_type": "display_data"
    }
   ],
   "source": [
    "sns.displot(predict_random_speeds(seq, 1000, model, min_cod=-3, max_cod=2)[1])\n",
    "plt.axvline(predict_elongation(cds, model, -3, 2), c='r', label=\"Optimal?\")\n",
    "plt.axvline(min(all_speeds), c='r', linestyle=\"--\", label=\"Optimal.\")\n",
    "plt.legend()\n",
    "plt.show()\n"
   ]
  },
  {
   "cell_type": "code",
   "execution_count": null,
   "metadata": {},
   "outputs": [],
   "source": [
    "assert(len(seq) < 10)\n",
    "all_seqs = [\"\".join(i) for i in list(itertools.product(*[let2cod[i] for i in seq]))]\n",
    "all_speeds = [predict_elongation(i, model, min_cod=-3, max_cod=2) for i in all_seqs]"
   ]
  },
  {
   "cell_type": "code",
   "execution_count": null,
   "metadata": {},
   "outputs": [
    {
     "name": "stdout",
     "output_type": "stream",
     "text": [
      "ATGTCCAAGGGTGAGGAATTGTTT\n",
      "ATGTCCAAGGGGGAGGAATTGTTT\n"
     ]
    }
   ],
   "source": [
    "optimal = all_seqs[np.argmin(all_speeds)]\n",
    "print(optimal)\n",
    "print(cds)"
   ]
  },
  {
   "cell_type": "code",
   "execution_count": null,
   "metadata": {},
   "outputs": [
    {
     "ename": "ValueError",
     "evalue": "too many dimensions 'str'",
     "output_type": "error",
     "traceback": [
      "\u001b[0;31m---------------------------------------------------------------------------\u001b[0m",
      "\u001b[0;31mValueError\u001b[0m                                Traceback (most recent call last)",
      "Cell \u001b[0;32mIn[120], line 81\u001b[0m\n\u001b[1;32m     78\u001b[0m     \u001b[38;5;66;03m# Step 6: Return the optimized codon sequence\u001b[39;00m\n\u001b[1;32m     79\u001b[0m     \u001b[38;5;28;01mreturn\u001b[39;00m cds\n\u001b[0;32m---> 81\u001b[0m \u001b[43mtranslation_rate_optimization\u001b[49m\u001b[43m(\u001b[49m\u001b[38;5;28;43mlist\u001b[39;49m\u001b[43m(\u001b[49m\u001b[43mseq\u001b[49m\u001b[43m)\u001b[49m\u001b[43m,\u001b[49m\u001b[43m \u001b[49m\u001b[43mmodel\u001b[49m\u001b[43m,\u001b[49m\u001b[43m \u001b[49m\u001b[38;5;241;43m-\u001b[39;49m\u001b[38;5;241;43m3\u001b[39;49m\u001b[43m,\u001b[49m\u001b[43m \u001b[49m\u001b[38;5;241;43m2\u001b[39;49m\u001b[43m)\u001b[49m\n",
      "Cell \u001b[0;32mIn[120], line 46\u001b[0m, in \u001b[0;36mtranslation_rate_optimization\u001b[0;34m(codons, model, c_min_rel, c_max_rel)\u001b[0m\n\u001b[1;32m     43\u001b[0m \u001b[38;5;28;01mfor\u001b[39;00m i, neighborhood \u001b[38;5;129;01min\u001b[39;00m \u001b[38;5;28menumerate\u001b[39m(neighborhoods):\n\u001b[1;32m     44\u001b[0m     \u001b[38;5;28;01mfor\u001b[39;00m q \u001b[38;5;129;01min\u001b[39;00m neighborhood:\n\u001b[1;32m     45\u001b[0m         \u001b[38;5;66;03m# Convert the sequence to a tensor for model input\u001b[39;00m\n\u001b[0;32m---> 46\u001b[0m         input_tensor \u001b[38;5;241m=\u001b[39m \u001b[43mtorch\u001b[49m\u001b[38;5;241;43m.\u001b[39;49m\u001b[43mtensor\u001b[49m\u001b[43m(\u001b[49m\u001b[43m[\u001b[49m\u001b[43mq\u001b[49m\u001b[43m]\u001b[49m\u001b[43m,\u001b[49m\u001b[43m \u001b[49m\u001b[43mdtype\u001b[49m\u001b[38;5;241;43m=\u001b[39;49m\u001b[43mtorch\u001b[49m\u001b[38;5;241;43m.\u001b[39;49m\u001b[43mfloat32\u001b[49m\u001b[43m)\u001b[49m  \u001b[38;5;66;03m# Adjust this based on model input requirements\u001b[39;00m\n\u001b[1;32m     47\u001b[0m         Ti_q[(i, \u001b[38;5;28mtuple\u001b[39m(q))] \u001b[38;5;241m=\u001b[39m model(input_tensor)\u001b[38;5;241m.\u001b[39mitem()  \u001b[38;5;66;03m# Assuming model output is a scalar value\u001b[39;00m\n\u001b[1;32m     49\u001b[0m \u001b[38;5;66;03m# Step 3: Initialize Pi,q and Vi,q\u001b[39;00m\n",
      "\u001b[0;31mValueError\u001b[0m: too many dimensions 'str'"
     ]
    }
   ],
   "source": [
    "# CHATGPT VERSION\n",
    "def translation_rate_optimization(codons, model, c_min_rel=-7, c_max_rel=5):\n",
    "    \"\"\"\n",
    "    Performs translation rate optimization using a predictive neural network model.\n",
    "    \n",
    "    Parameters:\n",
    "    - codons: A list or array of amino acid sequence (represented as codons).\n",
    "    - model: A pre-trained PyTorch model to predict the translation rate.\n",
    "    - c_min_rel: The minimum relative index for the codon neighborhood (default is -7).\n",
    "    - c_max_rel: The maximum relative index for the codon neighborhood (default is 5).\n",
    "    \n",
    "    Returns:\n",
    "    - optimized_cds: The optimized codon sequence based on the model prediction.\n",
    "    \"\"\"\n",
    "    \n",
    "    # # Define the set of synonymous codons for each amino acid (ϕ(a)).\n",
    "    # def get_synonymous_codons(a):\n",
    "    #     # This function should return the set of synonymous codons for a given amino acid.\n",
    "    #     # For simplicity, here we're using a dummy map of amino acids to codons.\n",
    "    #     codon_dict = {\n",
    "    #         'A': ['GCT', 'GCC', 'GCA', 'GCG'],  # Example codons for Alanine\n",
    "    #         'C': ['TGT', 'TGC'],  # Example codons for Cysteine\n",
    "    #         'D': ['GAT', 'GAC'],  # Example codons for Aspartic Acid\n",
    "    #         # Add mappings for all amino acids...\n",
    "    #     }\n",
    "    #     return codon_dict.get(a, [])\n",
    "\n",
    "    # Function to calculate the set of all neighborhoods for a given sequence\n",
    "    def calculate_neighborhoods(seq, c_min_rel, c_max_rel):\n",
    "        neighborhoods = []\n",
    "        for i in range(len(seq)):\n",
    "            c_min_i = max(1, i + c_min_rel)\n",
    "            c_max_i = min(i + c_max_rel, len(seq))\n",
    "            neighborhood = seq[c_min_i:c_max_i]\n",
    "            neighborhoods.append(neighborhood)\n",
    "        return neighborhoods\n",
    "    \n",
    "    # Step 1: Calculate Qi for each codon position\n",
    "    neighborhoods = calculate_neighborhoods(codons, c_min_rel, c_max_rel)\n",
    "    \n",
    "    # Step 2: Predict translation rates for each neighborhood\n",
    "    Ti_q = {}\n",
    "    for i, neighborhood in enumerate(neighborhoods):\n",
    "        for q in neighborhood:\n",
    "            # Convert the sequence to a tensor for model input\n",
    "            input_tensor = torch.tensor([q], dtype=torch.float32)  # Adjust this based on model input requirements\n",
    "            Ti_q[(i, tuple(q))] = model(input_tensor).item()  # Assuming model output is a scalar value\n",
    "    \n",
    "    # Step 3: Initialize Pi,q and Vi,q\n",
    "    Pi_q = {}\n",
    "    Vi_q = {}\n",
    "    for i, neighborhood in enumerate(neighborhoods):\n",
    "        for q in neighborhood:\n",
    "            Pi_q[(i, tuple(q))] = None\n",
    "            Vi_q[(i, tuple(q))] = Ti_q[(i, tuple(q))]\n",
    "    \n",
    "    # Step 4: Perform the iterative optimization\n",
    "    for i in range(len(codons)):\n",
    "        c_min_i = max(1, i + c_min_rel)\n",
    "        for q in neighborhoods[i]:\n",
    "            if c_min_i > 1:\n",
    "                prev_q = neighborhoods[i-1]\n",
    "                prev_P = Pi_q.get((i-1, tuple(prev_q)))\n",
    "                Vi_q[(i, tuple(q))] = min(Ti_q[(i, tuple(q))], Vi_q[(i-1, tuple(prev_q))] + Ti_q[(i, tuple(q))])\n",
    "            else:\n",
    "                Vi_q[(i, tuple(q))] = Ti_q[(i, tuple(q))]\n",
    "    \n",
    "    # Step 5: Backtrack to reconstruct the optimized codon sequence\n",
    "    optimized_sequence = []\n",
    "    i = len(codons) - 1\n",
    "    qL = min(Vi_q[(i, tuple(q))] for q in neighborhoods[i])\n",
    "    cds = qL\n",
    "    while i >= 0:\n",
    "        q = Pi_q.get((i, tuple(qL)))\n",
    "        cds = qL[:3] + cds\n",
    "        i -= 1\n",
    "    \n",
    "    # Step 6: Return the optimized codon sequence\n",
    "    return cds\n",
    "\n",
    "translation_rate_optimization(list(seq), model, -3, 2)"
   ]
  },
  {
   "cell_type": "code",
   "execution_count": null,
   "metadata": {},
   "outputs": [],
   "source": [
    "import pandas as pd\n",
    "df = pd.read_csv(\"processed-data/citrine_fluorescence_expanded.csv\")\n",
    "cds_orig = df.loc[df[\"cit\"] == \"citmin\", \"seq\"].unique().item()"
   ]
  },
  {
   "cell_type": "code",
   "execution_count": null,
   "metadata": {},
   "outputs": [
    {
     "name": "stdout",
     "output_type": "stream",
     "text": [
      "189.96628922224045\n",
      "138.70385026931763\n"
     ]
    }
   ],
   "source": [
    "\n",
    "\n",
    "print(predict_elongation(cds, model, min_cod=-3, max_cod=2))\n",
    "print(predict_elongation(cds_orig, model, min_cod=-3, max_cod=2))"
   ]
  },
  {
   "cell_type": "code",
   "execution_count": null,
   "metadata": {},
   "outputs": [
    {
     "data": {
      "image/png": "[encoded data removed]",
      "text/plain": [
       "<Figure size 500x500 with 1 Axes>"
      ]
     },
     "metadata": {},
     "output_type": "display_data"
    }
   ],
   "source": [
    "sns.displot(speeds, kind=\"kde\")\n",
    "plt.axvline(predict_elongation(cds, model, min_cod=-3, max_cod=2), c='r', label=\"optimal?\")\n",
    "plt.axvline(predict_elongation(cds_orig, model, min_cod=-3, max_cod=2), c='r', linestyle=\"--\", label=\"optimal under original model\")\n",
    "plt.legend(loc=\"lower right\")\n",
    "\n",
    "plt.show()"
   ]
  }
 ],
 "metadata": {
  "kernelspec": {
   "display_name": "Python 3 (ipykernel)",
   "language": "python",
   "name": "python3"
  }
 },
 "nbformat": 4,
 "nbformat_minor": 2
}
