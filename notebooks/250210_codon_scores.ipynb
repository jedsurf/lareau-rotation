{
 "cells": [
  {
   "cell_type": "code",
   "execution_count": 1,
   "metadata": {},
   "outputs": [],
   "source": [
    "import sys\n",
    "import os\n",
    "sys.path.append(\"src/\")\n",
    "from src import *\n",
    "sys.path.append(\"scripts/\")\n",
    "from ixnos import iXnos\n",
    "import torch\n",
    "from torch import nn\n",
    "import numpy as np\n",
    "import pandas as pd\n",
    "import matplotlib.pyplot as plt\n",
    "from sklearn.metrics import r2_score\n",
    "from scipy.stats import pearsonr\n",
    "from Bio import SeqIO\n",
    "import seaborn as sns\n",
    "import random"
   ]
  },
  {
   "cell_type": "code",
   "execution_count": 2,
   "metadata": {},
   "outputs": [],
   "source": [
    "gdf_path = \"iXnos/genome_data/human.transcripts.13cds10.transcripts.fa\"\n",
    "\n",
    "records = list(SeqIO.parse(gdf_path, \"fasta\"))\n",
    "gdf = pd.DataFrame({\n",
    "        'ID': [record.id for record in records],\n",
    "        'seq': [str(record.seq) for record in records]\n",
    "    }).set_index(\"ID\")\n",
    "gdf.loc[:, \"cds\"] = gdf[\"seq\"].apply(lambda s: s[13:-10])\n",
    "all_cds = \"\".join(gdf[\"cds\"])"
   ]
  },
  {
   "cell_type": "code",
   "execution_count": 10,
   "metadata": {},
   "outputs": [],
   "source": [
    "all_codons = [all_cds[i:i+3] for i in range(0, len(all_cds), 3)]"
   ]
  },
  {
   "cell_type": "code",
   "execution_count": 18,
   "metadata": {},
   "outputs": [],
   "source": [
    "codon_counts = pd.Series(all_codons).value_counts()\n",
    "p_codon = codon_counts / len(all_codons)"
   ]
  },
  {
   "cell_type": "code",
   "execution_count": null,
   "metadata": {},
   "outputs": [
    {
     "data": {
      "text/plain": [
       "32682976.666666668"
      ]
     },
     "execution_count": 25,
     "metadata": {},
     "output_type": "execute_result"
    }
   ],
   "source": [
    "len([i for i in codon_counts.keys() if \"n\" not in i])\n",
    "[i for i in codon_counts.keys() if \"n\" not in i]\n"
   ]
  },
  {
   "cell_type": "code",
   "execution_count": 20,
   "metadata": {},
   "outputs": [
    {
     "data": {
      "text/plain": [
       "[('CAG', 945421),\n",
       " ('CTG', 921247),\n",
       " ('AGA', 828322),\n",
       " ('TGG', 799357),\n",
       " ('GAA', 794377),\n",
       " ('CCA', 783148),\n",
       " ('GGA', 780672),\n",
       " ('AAG', 770858),\n",
       " ('GAG', 765402),\n",
       " ('AAA', 728618),\n",
       " ('AGC', 697930),\n",
       " ('GCC', 697912),\n",
       " ('CCT', 697428),\n",
       " ('CCC', 664623),\n",
       " ('AGG', 663991),\n",
       " ('TGA', 649551),\n",
       " ('GGC', 635093),\n",
       " ('GCT', 627595),\n",
       " ('GCA', 627391),\n",
       " ('ATG', 624197),\n",
       " ('CAA', 621676),\n",
       " ('TGC', 615273),\n",
       " ('ACA', 594232),\n",
       " ('GTG', 593981),\n",
       " ('TCA', 591452),\n",
       " ('TCC', 574808),\n",
       " ('CTC', 572328),\n",
       " ('ACC', 547758),\n",
       " ('GGG', 540042),\n",
       " ('CAC', 530994),\n",
       " ('TCT', 514039),\n",
       " ('TTC', 504188),\n",
       " ('GAC', 499492),\n",
       " ('CTT', 498568),\n",
       " ('CAT', 497733),\n",
       " ('TGT', 482604),\n",
       " ('GAT', 477680),\n",
       " ('AAC', 453882),\n",
       " ('TTT', 453217),\n",
       " ('TTG', 445508),\n",
       " ('AGT', 445350),\n",
       " ('AAT', 444684),\n",
       " ('ATC', 440960),\n",
       " ('ACT', 440228),\n",
       " ('ATT', 395848),\n",
       " ('GGT', 368690),\n",
       " ('GTC', 359328),\n",
       " ('CGG', 330322),\n",
       " ('CCG', 327856),\n",
       " ('GTT', 320336),\n",
       " ('TAC', 319395),\n",
       " ('TAT', 296327),\n",
       " ('CTA', 294449),\n",
       " ('GCG', 276272),\n",
       " ('CGC', 276034),\n",
       " ('ATA', 267707),\n",
       " ('TTA', 264672),\n",
       " ('TAA', 247457),\n",
       " ('CGA', 236168),\n",
       " ('ACG', 220842),\n",
       " ('GTA', 218786),\n",
       " ('TCG', 192325),\n",
       " ('CGT', 179587),\n",
       " ('TAG', 178374),\n",
       " ('AG', 1)]"
      ]
     },
     "execution_count": 20,
     "metadata": {},
     "output_type": "execute_result"
    }
   ],
   "source": [
    "[(i, _) for i, _ in codon_counts.items() if \"n\" not in i.lower()]"
   ]
  },
  {
   "cell_type": "code",
   "execution_count": 3,
   "metadata": {},
   "outputs": [
    {
     "data": {
      "text/plain": [
       "['AAA',\n",
       " 'AAC',\n",
       " 'AAG',\n",
       " 'AAT',\n",
       " 'ACA',\n",
       " 'ACC',\n",
       " 'ACG',\n",
       " 'ACT',\n",
       " 'AGA',\n",
       " 'AGC',\n",
       " 'AGG',\n",
       " 'AGT',\n",
       " 'ATA',\n",
       " 'ATC',\n",
       " 'ATG',\n",
       " 'ATT',\n",
       " 'CAA',\n",
       " 'CAC',\n",
       " 'CAG',\n",
       " 'CAT',\n",
       " 'CCA',\n",
       " 'CCC',\n",
       " 'CCG',\n",
       " 'CCT',\n",
       " 'CGA',\n",
       " 'CGC',\n",
       " 'CGG',\n",
       " 'CGT',\n",
       " 'CTA',\n",
       " 'CTC',\n",
       " 'CTG',\n",
       " 'CTT',\n",
       " 'GAA',\n",
       " 'GAC',\n",
       " 'GAG',\n",
       " 'GAT',\n",
       " 'GCA',\n",
       " 'GCC',\n",
       " 'GCG',\n",
       " 'GCT',\n",
       " 'GGA',\n",
       " 'GGC',\n",
       " 'GGG',\n",
       " 'GGT',\n",
       " 'GTA',\n",
       " 'GTC',\n",
       " 'GTG',\n",
       " 'GTT',\n",
       " 'TAA',\n",
       " 'TAC',\n",
       " 'TAG',\n",
       " 'TAT',\n",
       " 'TCA',\n",
       " 'TCC',\n",
       " 'TCG',\n",
       " 'TCT',\n",
       " 'TGA',\n",
       " 'TGC',\n",
       " 'TGG',\n",
       " 'TGT',\n",
       " 'TTA',\n",
       " 'TTC',\n",
       " 'TTG',\n",
       " 'TTT']"
      ]
     },
     "execution_count": 3,
     "metadata": {},
     "output_type": "execute_result"
    }
   ],
   "source": [
    "iXnos.get_codons()"
   ]
  },
  {
   "cell_type": "code",
   "execution_count": null,
   "metadata": {},
   "outputs": [
    {
     "ename": "SyntaxError",
     "evalue": "expected ':' (1221308045.py, line 2)",
     "output_type": "error",
     "traceback": [
      "\u001b[0;36m  Cell \u001b[0;32mIn[4], line 2\u001b[0;36m\u001b[0m\n\u001b[0;31m    def __init__(self, )\u001b[0m\n\u001b[0m                        ^\u001b[0m\n\u001b[0;31mSyntaxError\u001b[0m\u001b[0;31m:\u001b[0m expected ':'\n"
     ]
    }
   ],
   "source": [
    "# class iXnosCodon(iXnos):\n",
    "#     def __init__(self, )"
   ]
  }
 ],
 "metadata": {
  "kernelspec": {
   "display_name": "Python 3 (ipykernel)",
   "language": "python",
   "name": "python3"
  }
 },
 "nbformat": 4,
 "nbformat_minor": 2
}
